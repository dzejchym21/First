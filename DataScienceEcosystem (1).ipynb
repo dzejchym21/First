{
 "cells": [
  {
   "cell_type": "markdown",
   "id": "f3a78016-95ad-4619-8947-74d58e369588",
   "metadata": {},
   "source": [
    "# Data Science Tools and Ecosystem"
   ]
  },
  {
   "cell_type": "markdown",
   "id": "f4f85d77-9644-4922-8fe3-795ba2e96799",
   "metadata": {},
   "source": [
    "In this notebook, Data Science Tools and Ecosystem are summarized."
   ]
  },
  {
   "cell_type": "markdown",
   "id": "5fe8aa77-30ce-4984-aff5-2aaec751a70b",
   "metadata": {},
   "source": [
    "Some of the popular languages that Data Scientists use are:\n",
    "1. Python\n",
    "2. R\n",
    "3. Java"
   ]
  },
  {
   "cell_type": "markdown",
   "id": "78ab58a2-57dd-427a-b077-1dfcb68aba32",
   "metadata": {},
   "source": [
    "Some of the commonly used libraries used by Data Scientists include:\n",
    "1. Pandas (Python)\n",
    "2. NumPy (Python)\n",
    "3. ggplot2 (R)"
   ]
  },
  {
   "cell_type": "markdown",
   "id": "74bfd178-b783-4db1-9a15-af51c7424ed2",
   "metadata": {},
   "source": [
    "| Data Science Tools |\n",
    "|--------------------|\n",
    "|   Jupyter Notebook |\n",
    "|      Pytorch       |\n",
    "|        MLFlow      |"
   ]
  },
  {
   "cell_type": "markdown",
   "id": "2e26823a-8cd5-4950-a1e7-16f342acddcd",
   "metadata": {},
   "source": [
    "### Below are a few examples of evaluating arithmetic expressions in Python"
   ]
  },
  {
   "cell_type": "code",
   "execution_count": 17,
   "id": "40b4d71a-e3ee-4c6c-b4a5-219e6b33c909",
   "metadata": {},
   "outputs": [
    {
     "data": {
      "text/plain": [
       "17"
      ]
     },
     "execution_count": 17,
     "metadata": {},
     "output_type": "execute_result"
    }
   ],
   "source": [
    "# This a simple arithmetic expression to mutiply then add integers\n",
    "(3*4)+5"
   ]
  },
  {
   "cell_type": "code",
   "execution_count": 23,
   "id": "98eae218-1b67-4154-adb9-55d30e7074b3",
   "metadata": {},
   "outputs": [
    {
     "name": "stdout",
     "output_type": "stream",
     "text": [
      "200 minutes is 3.3333333333333335 hours\n"
     ]
    }
   ],
   "source": [
    "# This will convert 200 minutes to hours by diving by 60\n",
    "hours = 200/60\n",
    "print(f'200 minutes is {hours} hours')"
   ]
  },
  {
   "cell_type": "markdown",
   "id": "3137bc55-7eb1-4560-9a06-f3fc143a9571",
   "metadata": {},
   "source": [
    "**Objectives:**\n",
    "- List popular languages for Data Science\n",
    "- Libraries used by Data Scientists\n",
    "- Data Science Tools"
   ]
  },
  {
   "cell_type": "markdown",
   "id": "5fb73402-a966-4e54-959a-85a9427f2a2d",
   "metadata": {},
   "source": [
    "## Author:\n",
    "Karol"
   ]
  }
 ],
 "metadata": {
  "kernelspec": {
   "display_name": "Python [conda env:base] *",
   "language": "python",
   "name": "conda-base-py"
  },
  "language_info": {
   "codemirror_mode": {
    "name": "ipython",
    "version": 3
   },
   "file_extension": ".py",
   "mimetype": "text/x-python",
   "name": "python",
   "nbconvert_exporter": "python",
   "pygments_lexer": "ipython3",
   "version": "3.12.7"
  }
 },
 "nbformat": 4,
 "nbformat_minor": 5
}
